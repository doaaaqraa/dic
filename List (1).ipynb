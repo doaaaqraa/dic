{
 "cells": [
  {
   "cell_type": "code",
   "execution_count": 1,
   "metadata": {},
   "outputs": [
    {
     "data": {
      "text/plain": [
       "['f', 'k', 'aa']"
      ]
     },
     "execution_count": 1,
     "metadata": {},
     "output_type": "execute_result"
    }
   ],
   "source": [
    "h=[\"f\", \"k\", \"aa\"]\n",
    "h"
   ]
  },
  {
   "cell_type": "code",
   "execution_count": 2,
   "metadata": {},
   "outputs": [
    {
     "data": {
      "text/plain": [
       "'k'"
      ]
     },
     "execution_count": 2,
     "metadata": {},
     "output_type": "execute_result"
    }
   ],
   "source": [
    "h[1]"
   ]
  },
  {
   "cell_type": "code",
   "execution_count": 3,
   "metadata": {},
   "outputs": [
    {
     "data": {
      "text/plain": [
       "3"
      ]
     },
     "execution_count": 3,
     "metadata": {},
     "output_type": "execute_result"
    }
   ],
   "source": [
    "len(h)"
   ]
  },
  {
   "cell_type": "code",
   "execution_count": 4,
   "metadata": {},
   "outputs": [],
   "source": [
    "for i in range(3):\n",
    "    h[i] = h[i] + \" hjj\""
   ]
  },
  {
   "cell_type": "code",
   "execution_count": 5,
   "metadata": {},
   "outputs": [
    {
     "name": "stdout",
     "output_type": "stream",
     "text": [
      "['f hjj', 'k hjj', 'aa hjj']\n"
     ]
    }
   ],
   "source": [
    "        print(h)\n"
   ]
  },
  {
   "cell_type": "code",
   "execution_count": 6,
   "metadata": {},
   "outputs": [
    {
     "data": {
      "text/plain": [
       "['f hjj', 'k hjj', 'aa hjj', 'Masa Natsheh']"
      ]
     },
     "execution_count": 6,
     "metadata": {},
     "output_type": "execute_result"
    }
   ],
   "source": [
    "h.append('Masa Natsheh')\n",
    "h"
   ]
  },
  {
   "cell_type": "code",
   "execution_count": 18,
   "metadata": {},
   "outputs": [
    {
     "data": {
      "text/plain": [
       "['Noor Natsheh',\n",
       " 'f hjj',\n",
       " 'k hjj',\n",
       " 'aa hjj',\n",
       " 'Masa Natsheh',\n",
       " 'Nawal Natsheh',\n",
       " 'Eman Natsheh',\n",
       " 'Nawal Natsheh',\n",
       " 'Eman Natsheh',\n",
       " 'Nawal Natsheh',\n",
       " 'Eman Natsheh']"
      ]
     },
     "execution_count": 18,
     "metadata": {},
     "output_type": "execute_result"
    }
   ],
   "source": [
    "h.extend(['Nawal Natsheh', 'Eman Natsheh'])\n",
    "h"
   ]
  },
  {
   "cell_type": "code",
   "execution_count": 19,
   "metadata": {
    "collapsed": true
   },
   "outputs": [],
   "source": [
    "h = h+ ['Nawal Natsheh', 'Eman Natsheh']"
   ]
  },
  {
   "cell_type": "code",
   "execution_count": 20,
   "metadata": {},
   "outputs": [
    {
     "data": {
      "text/plain": [
       "['Noor Natsheh',\n",
       " 'f hjj',\n",
       " 'k hjj',\n",
       " 'aa hjj',\n",
       " 'Masa Natsheh',\n",
       " 'Nawal Natsheh',\n",
       " 'Eman Natsheh',\n",
       " 'Nawal Natsheh',\n",
       " 'Eman Natsheh',\n",
       " 'Nawal Natsheh',\n",
       " 'Eman Natsheh',\n",
       " 'Nawal Natsheh',\n",
       " 'Eman Natsheh']"
      ]
     },
     "execution_count": 20,
     "metadata": {},
     "output_type": "execute_result"
    }
   ],
   "source": [
    "h"
   ]
  },
  {
   "cell_type": "code",
   "execution_count": 21,
   "metadata": {},
   "outputs": [
    {
     "name": "stdout",
     "output_type": "stream",
     "text": [
      "['Noor Natsheh', 'Noor Natsheh', 'f hjj', 'k hjj', 'aa hjj', 'Masa Natsheh', 'Nawal Natsheh', 'Eman Natsheh', 'Nawal Natsheh', 'Eman Natsheh', 'Nawal Natsheh', 'Eman Natsheh', 'Nawal Natsheh', 'Eman Natsheh']\n"
     ]
    }
   ],
   "source": [
    "h.insert( 0,'Noor Natsheh')\n",
    "print(h)"
   ]
  },
  {
   "cell_type": "code",
   "execution_count": 14,
   "metadata": {
    "collapsed": true
   },
   "outputs": [],
   "source": [
    "squares = [0,1,4,9,16,25,36,49]"
   ]
  },
  {
   "cell_type": "code",
   "execution_count": 15,
   "metadata": {},
   "outputs": [
    {
     "data": {
      "text/plain": [
       "[0, 1, 4, 9, 16, 25, 36]"
      ]
     },
     "execution_count": 15,
     "metadata": {},
     "output_type": "execute_result"
    }
   ],
   "source": [
    "squares[:-1]"
   ]
  },
  {
   "cell_type": "code",
   "execution_count": null,
   "metadata": {
    "collapsed": true
   },
   "outputs": [],
   "source": []
  }
 ],
 "metadata": {
  "kernelspec": {
   "display_name": "Python 3",
   "language": "python",
   "name": "python3"
  },
  "language_info": {
   "codemirror_mode": {
    "name": "ipython",
    "version": 3
   },
   "file_extension": ".py",
   "mimetype": "text/x-python",
   "name": "python",
   "nbconvert_exporter": "python",
   "pygments_lexer": "ipython3",
   "version": "3.6.2"
  }
 },
 "nbformat": 4,
 "nbformat_minor": 2
}
